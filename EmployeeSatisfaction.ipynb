{
 "cells": [
  {
   "cell_type": "code",
   "execution_count": 3,
   "id": "40fe3e8f-a124-462c-8ec7-210ffcf575f4",
   "metadata": {},
   "outputs": [],
   "source": [
    "import pandas as pd\n",
    "import matplotlib.pyplot as plt\n",
    "import seaborn as sns\n",
    "#https://blog.softhints.com/pandas-display-all-columns-and-show-more-rows/\n",
    "import numpy as np\n",
    "df_surveymonkey = pd.read_csv ('survey-monkey2.csv',skiprows=0)\n",
    "#df_finaldata=pd.read_csv ('final_data.csv')"
   ]
  },
  {
   "cell_type": "markdown",
   "id": "9c981880-5da6-42c3-bac7-ab8f07047f12",
   "metadata": {},
   "source": [
    "## Does the organisation Experience staff turnover?\n",
    "### Number of Employees likely to Exit the organisation"
   ]
  },
  {
   "cell_type": "code",
   "execution_count": 4,
   "id": "7a10ebef-d1cd-486d-8079-a80bc4304d22",
   "metadata": {},
   "outputs": [],
   "source": [
    "df_surveymonkey['I see myself working at the Agriculture and Food Authority in the next 2 years ?']\n",
    "attrition_is_yes= df_surveymonkey[df_surveymonkey['I see myself working at the Agriculture and Food Authority in the next 2 years ?']== \"No\"]\n",
    "attrition_is_no= df_surveymonkey[df_surveymonkey['I see myself working at the Agriculture and Food Authority in the next 2 years ?']== \"Yes\"]"
   ]
  },
  {
   "cell_type": "code",
   "execution_count": 5,
   "id": "3ad87c50-7c79-4728-886a-3a64e252db11",
   "metadata": {},
   "outputs": [
    {
     "data": {
      "image/png": "[encoded data removed]",
      "text/plain": [
       "<Figure size 432x288 with 1 Axes>"
      ]
     },
     "metadata": {},
     "output_type": "display_data"
    }
   ],
   "source": [
    "#define data\n",
    "#https://www.statology.org/seaborn-pie-chart/\n",
    "yes=len(attrition_is_yes)\n",
    "no=len(attrition_is_no)\n",
    "data = [yes,no]\n",
    "labels = ['Attrition Yes', 'Attrition No']\n",
    "#define Seaborn color palette to use\n",
    "colors = sns.color_palette('bright')[0:5]\n",
    "#create pie chart\n",
    "plt.pie(data, labels = labels, colors = colors, autopct='%.0f%%')\n",
    "plt.show()"
   ]
  },
  {
   "cell_type": "markdown",
   "id": "8e9a03f6-e9e0-4db4-9c01-4a0aaec3c05a",
   "metadata": {},
   "source": [
    "### From the analysis, 20% of the total sample are likely to exit the organisation in the next 3 years"
   ]
  },
  {
   "cell_type": "code",
   "execution_count": 11,
   "id": "c79a73d7-fc40-4f43-b7af-193b2d5c481d",
   "metadata": {},
   "outputs": [
    {
     "data": {
      "text/html": [
       "<div>\n",
       "<style scoped>\n",
       "    .dataframe tbody tr th:only-of-type {\n",
       "        vertical-align: middle;\n",
       "    }\n",
       "\n",
       "    .dataframe tbody tr th {\n",
       "        vertical-align: top;\n",
       "    }\n",
       "\n",
       "    .dataframe thead th {\n",
       "        text-align: right;\n",
       "    }\n",
       "</style>\n",
       "<table border=\"1\" class=\"dataframe\">\n",
       "  <thead>\n",
       "    <tr style=\"text-align: right;\">\n",
       "      <th></th>\n",
       "      <th>Attrition</th>\n",
       "      <th>salary_enough</th>\n",
       "      <th>complains_handling</th>\n",
       "      <th>satisfied</th>\n",
       "    </tr>\n",
       "  </thead>\n",
       "  <tbody>\n",
       "    <tr>\n",
       "      <th>0</th>\n",
       "      <td>No</td>\n",
       "      <td>Yes</td>\n",
       "      <td>No</td>\n",
       "      <td>Dissatisfied</td>\n",
       "    </tr>\n",
       "    <tr>\n",
       "      <th>9</th>\n",
       "      <td>No</td>\n",
       "      <td>No</td>\n",
       "      <td>No</td>\n",
       "      <td>Dissatisfied</td>\n",
       "    </tr>\n",
       "    <tr>\n",
       "      <th>10</th>\n",
       "      <td>No</td>\n",
       "      <td>No</td>\n",
       "      <td>No</td>\n",
       "      <td>Dissatisfied</td>\n",
       "    </tr>\n",
       "    <tr>\n",
       "      <th>11</th>\n",
       "      <td>No</td>\n",
       "      <td>No</td>\n",
       "      <td>No</td>\n",
       "      <td>Dissatisfied</td>\n",
       "    </tr>\n",
       "    <tr>\n",
       "      <th>12</th>\n",
       "      <td>No</td>\n",
       "      <td>No</td>\n",
       "      <td>No</td>\n",
       "      <td>Dissatisfied</td>\n",
       "    </tr>\n",
       "    <tr>\n",
       "      <th>14</th>\n",
       "      <td>No</td>\n",
       "      <td>No</td>\n",
       "      <td>No</td>\n",
       "      <td>Dissatisfied</td>\n",
       "    </tr>\n",
       "    <tr>\n",
       "      <th>15</th>\n",
       "      <td>No</td>\n",
       "      <td>No</td>\n",
       "      <td>No</td>\n",
       "      <td>Dissatisfied</td>\n",
       "    </tr>\n",
       "    <tr>\n",
       "      <th>52</th>\n",
       "      <td>No</td>\n",
       "      <td>No</td>\n",
       "      <td>Yes</td>\n",
       "      <td>Dissatisfied</td>\n",
       "    </tr>\n",
       "    <tr>\n",
       "      <th>54</th>\n",
       "      <td>No</td>\n",
       "      <td>No</td>\n",
       "      <td>No</td>\n",
       "      <td>Dissatisfied</td>\n",
       "    </tr>\n",
       "    <tr>\n",
       "      <th>55</th>\n",
       "      <td>No</td>\n",
       "      <td>No</td>\n",
       "      <td>Yes</td>\n",
       "      <td>Dissatisfied</td>\n",
       "    </tr>\n",
       "    <tr>\n",
       "      <th>56</th>\n",
       "      <td>No</td>\n",
       "      <td>No</td>\n",
       "      <td>Yes</td>\n",
       "      <td>Dissatisfied</td>\n",
       "    </tr>\n",
       "    <tr>\n",
       "      <th>62</th>\n",
       "      <td>No</td>\n",
       "      <td>No</td>\n",
       "      <td>No</td>\n",
       "      <td>Dissatisfied</td>\n",
       "    </tr>\n",
       "    <tr>\n",
       "      <th>64</th>\n",
       "      <td>No</td>\n",
       "      <td>No</td>\n",
       "      <td>No</td>\n",
       "      <td>Dissatisfied</td>\n",
       "    </tr>\n",
       "  </tbody>\n",
       "</table>\n",
       "</div>"
      ],
      "text/plain": [
       "   Attrition salary_enough complains_handling     satisfied\n",
       "0         No           Yes                 No  Dissatisfied\n",
       "9         No            No                 No  Dissatisfied\n",
       "10        No            No                 No  Dissatisfied\n",
       "11        No            No                 No  Dissatisfied\n",
       "12        No            No                 No  Dissatisfied\n",
       "14        No            No                 No  Dissatisfied\n",
       "15        No            No                 No  Dissatisfied\n",
       "52        No            No                Yes  Dissatisfied\n",
       "54        No            No                 No  Dissatisfied\n",
       "55        No            No                Yes  Dissatisfied\n",
       "56        No            No                Yes  Dissatisfied\n",
       "62        No            No                 No  Dissatisfied\n",
       "64        No            No                 No  Dissatisfied"
      ]
     },
     "execution_count": 11,
     "metadata": {},
     "output_type": "execute_result"
    }
   ],
   "source": [
    "attrition_is_yes = attrition_is_yes.rename(columns={'I see myself working at the Agriculture and Food Authority in the next 2 years ?': 'Attrition','My salary and allowances are adequate with the position I hold at AFA?':'salary_enough','The organization has a system to handle staff grievances?':'complains_handling','Overall, I am satisfied with position at AFA?':'satisfied'})\n",
    "attrition_is_yes = attrition_is_yes[['Attrition','salary_enough','complains_handling','satisfied']]\n",
    "attrition_is_yes"
   ]
  },
  {
   "cell_type": "code",
   "execution_count": 8,
   "id": "0dbc24dd-4db8-4452-92be-4e4d976cb1fb",
   "metadata": {},
   "outputs": [
    {
     "data": {
      "image/png": "[encoded data removed]",
      "text/plain": [
       "<Figure size 432x288 with 1 Axes>"
      ]
     },
     "metadata": {},
     "output_type": "display_data"
    }
   ],
   "source": [
    "salary_enough=attrition_is_yes[attrition_is_yes['salary_enough']== \"Yes\"]\n",
    "salary_enough_no=attrition_is_yes[attrition_is_yes['salary_enough']== \"No\"]\n",
    "yes=len(salary_enough)\n",
    "no=len(salary_enough_no)\n",
    "data = [yes,no]\n",
    "labels = ['Salary Adequete', 'Salary Not Adequete']\n",
    "#define Seaborn color palette to use\n",
    "colors = sns.color_palette('bright')[0:5]\n",
    "#create pie chart\n",
    "plt.pie(data, labels = labels, colors = colors, autopct='%.0f%%')\n",
    "plt.show()"
   ]
  },
  {
   "cell_type": "code",
   "execution_count": 9,
   "id": "3f11dbb9-a213-461a-b0db-9e14a42c17cb",
   "metadata": {},
   "outputs": [
    {
     "data": {
      "image/png": "[encoded data removed]",
      "text/plain": [
       "<Figure size 432x288 with 1 Axes>"
      ]
     },
     "metadata": {},
     "output_type": "display_data"
    }
   ],
   "source": [
    "complains_handling=attrition_is_yes[attrition_is_yes['complains_handling']== \"Yes\"]\n",
    "\n",
    "complains_handling_no=attrition_is_yes[attrition_is_yes['complains_handling']== \"No\"]\n",
    "\n",
    "yes=len(complains_handling)\n",
    "no=len(complains_handling_no)\n",
    "data = [yes,no]\n",
    "labels = ['complains handled well', 'Complains not handled well']\n",
    "#define Seaborn color palette to use\n",
    "colors = sns.color_palette('bright')[0:5]\n",
    "#create pie chart\n",
    "plt.pie(data, labels = labels, colors = colors, autopct='%.0f%%')\n",
    "plt.show()\n",
    "\n"
   ]
  },
  {
   "cell_type": "code",
   "execution_count": 12,
   "id": "f2b1db47-9b9a-45a0-b763-049729beee22",
   "metadata": {},
   "outputs": [
    {
     "data": {
      "image/png": "[encoded data removed]",
      "text/plain": [
       "<Figure size 432x288 with 1 Axes>"
      ]
     },
     "metadata": {},
     "output_type": "display_data"
    }
   ],
   "source": [
    "satisfied=attrition_is_yes[attrition_is_yes['satisfied']== \"satisfied\"]\n",
    "\n",
    "satisfied_no=attrition_is_yes[attrition_is_yes['satisfied']== \"Dissatisfied\"]\n",
    "\n",
    "yes=len(satisfied)\n",
    "no=len(satisfied_no)\n",
    "data = [yes,no]\n",
    "labels = ['Satisfied', 'Not satisfied']\n",
    "#define Seaborn color palette to use\n",
    "colors = sns.color_palette('bright')[0:5]\n",
    "#create pie chart\n",
    "plt.pie(data, labels = labels, colors = colors, autopct='%.0f%%')\n",
    "plt.show()"
   ]
  },
  {
   "cell_type": "code",
   "execution_count": null,
   "id": "9ee85242-5c07-4d3f-8747-41c42505571a",
   "metadata": {},
   "outputs": [],
   "source": []
  }
 ],
 "metadata": {
  "kernelspec": {
   "display_name": "Python 3",
   "language": "python",
   "name": "python3"
  },
  "language_info": {
   "codemirror_mode": {
    "name": "ipython",
    "version": 3
   },
   "file_extension": ".py",
   "mimetype": "text/x-python",
   "name": "python",
   "nbconvert_exporter": "python",
   "pygments_lexer": "ipython3",
   "version": "3.6.8"
  }
 },
 "nbformat": 4,
 "nbformat_minor": 5
}
