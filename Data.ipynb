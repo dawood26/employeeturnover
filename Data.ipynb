{
 "cells": [
  {
   "cell_type": "code",
   "execution_count": 2,
   "id": "5435a93b-4acb-4c64-b81e-c511c7dfb0af",
   "metadata": {
    "scrolled": true,
    "tags": []
   },
   "outputs": [],
   "source": [
    "import pandas as pd\n",
    "#https://blog.softhints.com/pandas-display-all-columns-and-show-more-rows/\n",
    "import numpy as np\n",
    "pd.set_option('display.max_rows', None)\n",
    "pd.set_option('display.max_columns', None)\n",
    "pd.set_option('display.width', None)\n",
    "pd.set_option('display.max_colwidth', None)\n",
    "df = pd.read_csv ('turnover2.csv',skiprows = [1,2])\n",
    "pd.get_option(\"display.max_columns\")\n",
    "df=df.loc[:, df.columns!='Question']\n",
    "\n",
    "#https://kanoki.org/2019/07/17/pandas-how-to-replace-values-based-on-conditions/\n",
    "\n",
    "df['A-1'].mask(df['A-1'] == 'M', 'MALE', inplace=True)\n",
    "df['A-1'].mask(df['A-1'] == 'F', 'FEMALE', inplace=True)\n",
    "\n",
    "df['A-2'].mask(df['A-2'] == 1, '18-25', inplace=True)\n",
    "df['A-2'].mask(df['A-2'] == 2, '26-35', inplace=True)\n",
    "df['A-2'].mask(df['A-2'] == 3, '36-45', inplace=True)\n",
    "df['A-2'].mask(df['A-2'] == 4, 'OVER 45', inplace=True)\n",
    "\n",
    "df['A-3'].mask(df['A-3'] == 'SI', 'SINGLE', inplace=True)\n",
    "df['A-3'].mask(df['A-3'] == 'MA', 'MARRIED', inplace=True)\n",
    "\n",
    "df['A-4'].mask(df['A-4'] == 1, 'PRIMARY', inplace=True)\n",
    "df['A-4'].mask(df['A-4'] == 2, 'SECONDARY', inplace=True)\n",
    "df['A-4'].mask(df['A-4'] == 3, 'TERTIARY', inplace=True)\n",
    "df['A-4'].mask(df['A-4'] == 4, 'BACHELOR DEGREE', inplace=True)\n",
    "df['A-4'].mask(df['A-4'] == 5, 'MASTERS MASTERS', inplace=True)\n",
    "\n",
    "###turn over and Employee Satisfaction\n",
    "basevalues1=df['C-6e-III'].tolist()\n",
    "df2 = pd.DataFrame(basevalues1)\n",
    "df['C-6g-IV']=df2\n",
    "df['C-6g-II']=df2\n",
    "df['C-6g-III']=df2\n",
    "df['C-6g-I']=df2\n",
    "####turn over and Em\n",
    "\n",
    "# Difine Dict with the key-value pair to remap.\n",
    "dict = {1 : \"Less Than 1\", 2 : \"1-4\", 3: \"5-9\", 4 : \"10-14\", 5: \"Over 15\"}\n",
    "\n",
    "dict2 = {1 : \"Manual Analysis\", 2 : \"Automated Analysis\", 3: \"No Analysis\"}\n",
    "\n",
    "df.replace({\"A-5\": dict},inplace=True)\n",
    "df.replace({\"B-2\": dict2},inplace=True)\n",
    "\n",
    "respondents = []\n",
    "\n",
    "for x in range(1, 42):\n",
    "  respondents.append(x)\n",
    "df.insert(0, 'Respondent ID', respondents)\n",
    "df.to_csv('final_data.csv', index=False)\n"
   ]
  },
  {
   "cell_type": "code",
   "execution_count": null,
   "id": "89258d17-870f-4693-a509-236a99c318ff",
   "metadata": {},
   "outputs": [],
   "source": []
  },
  {
   "cell_type": "code",
   "execution_count": null,
   "id": "079ade21-8402-4a35-aa52-185e48f23cec",
   "metadata": {},
   "outputs": [],
   "source": []
  },
  {
   "cell_type": "code",
   "execution_count": null,
   "id": "8432b58a-d9c5-4d38-9acc-26dede086200",
   "metadata": {},
   "outputs": [],
   "source": []
  },
  {
   "cell_type": "code",
   "execution_count": null,
   "id": "f0c24850-449f-4ce0-82e7-cd0f8a840035",
   "metadata": {},
   "outputs": [],
   "source": []
  }
 ],
 "metadata": {
  "kernelspec": {
   "display_name": "Python 3",
   "language": "python",
   "name": "python3"
  },
  "language_info": {
   "codemirror_mode": {
    "name": "ipython",
    "version": 3
   },
   "file_extension": ".py",
   "mimetype": "text/x-python",
   "name": "python",
   "nbconvert_exporter": "python",
   "pygments_lexer": "ipython3",
   "version": "3.6.8"
  }
 },
 "nbformat": 4,
 "nbformat_minor": 5
}
