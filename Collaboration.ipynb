{
 "cells": [
  {
   "cell_type": "code",
   "execution_count": 1,
   "id": "40fe3e8f-a124-462c-8ec7-210ffcf575f4",
   "metadata": {},
   "outputs": [],
   "source": [
    "import pandas as pd\n",
    "import matplotlib.pyplot as plt\n",
    "import seaborn as sns\n",
    "#https://blog.softhints.com/pandas-display-all-columns-and-show-more-rows/\n",
    "import numpy as np\n",
    "df_surveymonkey = pd.read_csv ('survey-monkey2.csv',skiprows=0)\n",
    "#df_finaldata=pd.read_csv ('final_data.csv')"
   ]
  },
  {
   "cell_type": "markdown",
   "id": "9c981880-5da6-42c3-bac7-ab8f07047f12",
   "metadata": {},
   "source": [
    "## Does the organisation Experience staff turnover?\n",
    "### Number of Employees likely to Exit the organisation"
   ]
  },
  {
   "cell_type": "code",
   "execution_count": 11,
   "id": "7a10ebef-d1cd-486d-8079-a80bc4304d22",
   "metadata": {},
   "outputs": [],
   "source": [
    "df_surveymonkey['I see myself working at the Agriculture and Food Authority in the next 2 years ?']\n",
    "attrition_is_yes= df_surveymonkey[df_surveymonkey['I see myself working at the Agriculture and Food Authority in the next 2 years ?']== \"No\"]\n",
    "attrition_is_no= df_surveymonkey[df_surveymonkey['I see myself working at the Agriculture and Food Authority in the next 2 years ?']== \"Yes\"]"
   ]
  },
  {
   "cell_type": "code",
   "execution_count": 12,
   "id": "3ad87c50-7c79-4728-886a-3a64e252db11",
   "metadata": {},
   "outputs": [
    {
     "data": {
      "image/png": "[encoded data removed]",
      "text/plain": [
       "<Figure size 432x288 with 1 Axes>"
      ]
     },
     "metadata": {},
     "output_type": "display_data"
    }
   ],
   "source": [
    "#define data\n",
    "#https://www.statology.org/seaborn-pie-chart/\n",
    "yes=len(attrition_is_yes)\n",
    "no=len(attrition_is_no)\n",
    "data = [yes,no]\n",
    "labels = ['Attrition Yes', 'Attrition No']\n",
    "#define Seaborn color palette to use\n",
    "colors = sns.color_palette('bright')[0:5]\n",
    "#create pie chart\n",
    "plt.pie(data, labels = labels, colors = colors, autopct='%.0f%%')\n",
    "plt.show()"
   ]
  },
  {
   "cell_type": "markdown",
   "id": "8e9a03f6-e9e0-4db4-9c01-4a0aaec3c05a",
   "metadata": {},
   "source": [
    "### From the analysis, 20% of the total sample are likely to exit the organisation in the next 3 years"
   ]
  },
  {
   "cell_type": "code",
   "execution_count": 13,
   "id": "c79a73d7-fc40-4f43-b7af-193b2d5c481d",
   "metadata": {},
   "outputs": [
    {
     "data": {
      "text/html": [
       "<div>\n",
       "<style scoped>\n",
       "    .dataframe tbody tr th:only-of-type {\n",
       "        vertical-align: middle;\n",
       "    }\n",
       "\n",
       "    .dataframe tbody tr th {\n",
       "        vertical-align: top;\n",
       "    }\n",
       "\n",
       "    .dataframe thead th {\n",
       "        text-align: right;\n",
       "    }\n",
       "</style>\n",
       "<table border=\"1\" class=\"dataframe\">\n",
       "  <thead>\n",
       "    <tr style=\"text-align: right;\">\n",
       "      <th></th>\n",
       "      <th>Attrition</th>\n",
       "      <th>collaboration</th>\n",
       "      <th>collaboration-framework</th>\n",
       "      <th>data-sharing</th>\n",
       "    </tr>\n",
       "  </thead>\n",
       "  <tbody>\n",
       "    <tr>\n",
       "      <th>0</th>\n",
       "      <td>No</td>\n",
       "      <td>No</td>\n",
       "      <td>Yes</td>\n",
       "      <td>Yes</td>\n",
       "    </tr>\n",
       "    <tr>\n",
       "      <th>9</th>\n",
       "      <td>No</td>\n",
       "      <td>No</td>\n",
       "      <td>Yes</td>\n",
       "      <td>Yes</td>\n",
       "    </tr>\n",
       "    <tr>\n",
       "      <th>10</th>\n",
       "      <td>No</td>\n",
       "      <td>No</td>\n",
       "      <td>No</td>\n",
       "      <td>No</td>\n",
       "    </tr>\n",
       "    <tr>\n",
       "      <th>11</th>\n",
       "      <td>No</td>\n",
       "      <td>No</td>\n",
       "      <td>Yes</td>\n",
       "      <td>Yes</td>\n",
       "    </tr>\n",
       "    <tr>\n",
       "      <th>12</th>\n",
       "      <td>No</td>\n",
       "      <td>No</td>\n",
       "      <td>No</td>\n",
       "      <td>No</td>\n",
       "    </tr>\n",
       "    <tr>\n",
       "      <th>14</th>\n",
       "      <td>No</td>\n",
       "      <td>No</td>\n",
       "      <td>No</td>\n",
       "      <td>Yes</td>\n",
       "    </tr>\n",
       "    <tr>\n",
       "      <th>15</th>\n",
       "      <td>No</td>\n",
       "      <td>No</td>\n",
       "      <td>No</td>\n",
       "      <td>No</td>\n",
       "    </tr>\n",
       "    <tr>\n",
       "      <th>52</th>\n",
       "      <td>No</td>\n",
       "      <td>No</td>\n",
       "      <td>No</td>\n",
       "      <td>No</td>\n",
       "    </tr>\n",
       "    <tr>\n",
       "      <th>54</th>\n",
       "      <td>No</td>\n",
       "      <td>Yes</td>\n",
       "      <td>No</td>\n",
       "      <td>No</td>\n",
       "    </tr>\n",
       "    <tr>\n",
       "      <th>55</th>\n",
       "      <td>No</td>\n",
       "      <td>No</td>\n",
       "      <td>No</td>\n",
       "      <td>No</td>\n",
       "    </tr>\n",
       "    <tr>\n",
       "      <th>56</th>\n",
       "      <td>No</td>\n",
       "      <td>No</td>\n",
       "      <td>No</td>\n",
       "      <td>No</td>\n",
       "    </tr>\n",
       "    <tr>\n",
       "      <th>62</th>\n",
       "      <td>No</td>\n",
       "      <td>No</td>\n",
       "      <td>No</td>\n",
       "      <td>No</td>\n",
       "    </tr>\n",
       "    <tr>\n",
       "      <th>64</th>\n",
       "      <td>No</td>\n",
       "      <td>No</td>\n",
       "      <td>No</td>\n",
       "      <td>No</td>\n",
       "    </tr>\n",
       "  </tbody>\n",
       "</table>\n",
       "</div>"
      ],
      "text/plain": [
       "   Attrition collaboration collaboration-framework data-sharing\n",
       "0         No            No                     Yes          Yes\n",
       "9         No            No                     Yes          Yes\n",
       "10        No            No                      No           No\n",
       "11        No            No                     Yes          Yes\n",
       "12        No            No                      No           No\n",
       "14        No            No                      No          Yes\n",
       "15        No            No                      No           No\n",
       "52        No            No                      No           No\n",
       "54        No           Yes                      No           No\n",
       "55        No            No                      No           No\n",
       "56        No            No                      No           No\n",
       "62        No            No                      No           No\n",
       "64        No            No                      No           No"
      ]
     },
     "execution_count": 13,
     "metadata": {},
     "output_type": "execute_result"
    }
   ],
   "source": [
    "attrition_is_yes = attrition_is_yes.rename(columns={'I see myself working at the Agriculture and Food Authority in the next 2 years ?': 'Attrition','The organizational culture encourages employees to collaborate on tasks and decision making?':'collaboration','The organization has a framework that allows collaborative information sharing for accurate decision making in workforce management?':'collaboration-framework','There exist systems with provision to infer data  from other departments to help in strategic decision making':'data-sharing'})\n",
    "attrition_is_yes = attrition_is_yes[['Attrition','collaboration','collaboration-framework','data-sharing']]\n",
    "attrition_is_yes"
   ]
  },
  {
   "cell_type": "code",
   "execution_count": 14,
   "id": "0dbc24dd-4db8-4452-92be-4e4d976cb1fb",
   "metadata": {},
   "outputs": [
    {
     "data": {
      "image/png": "[encoded data removed]",
      "text/plain": [
       "<Figure size 432x288 with 1 Axes>"
      ]
     },
     "metadata": {},
     "output_type": "display_data"
    }
   ],
   "source": [
    "training_offered_yes=attrition_is_yes[attrition_is_yes['collaboration']== \"Yes\"]\n",
    "training_offered_NO=attrition_is_yes[attrition_is_yes['collaboration']== \"No\"]\n",
    "yes=len(training_offered_yes)\n",
    "no=len(training_offered_NO)\n",
    "data = [yes,no]\n",
    "labels = ['Collaboration', 'No collaboration']\n",
    "#define Seaborn color palette to use\n",
    "colors = sns.color_palette('bright')[0:5]\n",
    "#create pie chart\n",
    "plt.pie(data, labels = labels, colors = colors, autopct='%.0f%%')\n",
    "plt.show()"
   ]
  },
  {
   "cell_type": "code",
   "execution_count": 22,
   "id": "3f11dbb9-a213-461a-b0db-9e14a42c17cb",
   "metadata": {},
   "outputs": [
    {
     "data": {
      "image/png": "[encoded data removed]",
      "text/plain": [
       "<Figure size 432x288 with 1 Axes>"
      ]
     },
     "metadata": {},
     "output_type": "display_data"
    }
   ],
   "source": [
    "collaboration_framework_yes=attrition_is_yes[attrition_is_yes['collaboration-framework']== \"Yes\"]\n",
    "\n",
    "collaboration_framework=attrition_is_yes[attrition_is_yes['collaboration-framework']== \"No\"]\n",
    "\n",
    "yes=len(collaboration_framework_yes)\n",
    "no=len(collaboration_framework)\n",
    "data = [yes,no]\n",
    "labels = ['Collaboration Framework available', 'No Collaboration Framework']\n",
    "#define Seaborn color palette to use\n",
    "colors = sns.color_palette('bright')[0:5]\n",
    "#create pie chart\n",
    "plt.pie(data, labels = labels, colors = colors, autopct='%.0f%%')\n",
    "plt.show()\n",
    "\n"
   ]
  },
  {
   "cell_type": "code",
   "execution_count": 23,
   "id": "8d9e7246-1337-490b-8109-d57b1962874a",
   "metadata": {},
   "outputs": [
    {
     "data": {
      "image/png": "[encoded data removed]",
      "text/plain": [
       "<Figure size 432x288 with 1 Axes>"
      ]
     },
     "metadata": {},
     "output_type": "display_data"
    }
   ],
   "source": [
    "data_sharing=attrition_is_yes[attrition_is_yes['data-sharing']== \"Yes\"]\n",
    "\n",
    "data_sharing_no=attrition_is_yes[attrition_is_yes['data-sharing']== \"No\"]\n",
    "\n",
    "yes=len(data_sharing)\n",
    "no=len(data_sharing_no)\n",
    "data = [yes,no]\n",
    "labels = ['Data sharing', 'No data Shairing']\n",
    "#define Seaborn color palette to use\n",
    "colors = sns.color_palette('bright')[0:5]\n",
    "#create pie chart\n",
    "plt.pie(data, labels = labels, colors = colors, autopct='%.0f%%')\n",
    "plt.show()"
   ]
  },
  {
   "cell_type": "code",
   "execution_count": null,
   "id": "72173162-411a-45c0-a552-668b16f6193d",
   "metadata": {},
   "outputs": [],
   "source": []
  }
 ],
 "metadata": {
  "kernelspec": {
   "display_name": "Python 3",
   "language": "python",
   "name": "python3"
  },
  "language_info": {
   "codemirror_mode": {
    "name": "ipython",
    "version": 3
   },
   "file_extension": ".py",
   "mimetype": "text/x-python",
   "name": "python",
   "nbconvert_exporter": "python",
   "pygments_lexer": "ipython3",
   "version": "3.6.8"
  }
 },
 "nbformat": 4,
 "nbformat_minor": 5
}
